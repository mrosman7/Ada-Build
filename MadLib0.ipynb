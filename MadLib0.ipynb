{
  "nbformat": 4,
  "nbformat_minor": 0,
  "metadata": {
    "colab": {
      "name": "MadLib0.ipynb",
      "provenance": [],
      "authorship_tag": "ABX9TyNS9enZ+6zJgBe3sEzPjxHA",
      "include_colab_link": true
    },
    "kernelspec": {
      "name": "python3",
      "display_name": "Python 3"
    }
  },
  "cells": [
    {
      "cell_type": "markdown",
      "metadata": {
        "id": "view-in-github",
        "colab_type": "text"
      },
      "source": [
        "<a href=\"https://colab.research.google.com/github/mrosman7/Ada-Build/blob/main/MadLib0.ipynb\" target=\"_parent\"><img src=\"https://colab.research.google.com/assets/colab-badge.svg\" alt=\"Open In Colab\"/></a>"
      ]
    },
    {
      "cell_type": "code",
      "metadata": {
        "id": "6rrxC1gm76B5",
        "outputId": "f6682852-d012-40db-b383-4c295effb598",
        "colab": {
          "base_uri": "https://localhost:8080/",
          "height": 353
        }
      },
      "source": [
        "print(\"Welcome to the MadLib program! Please enter some information below:\")  #inital greeting\n",
        " \n",
        "responses = {           #dictionary with empty values \n",
        "    \"Holiday\" : \"\",\n",
        "    \"Noun\" : \"\",\n",
        "    \"Place\" : \"\",\n",
        "    \"Person\" : \"\",\n",
        "    \"Adjective\" : \"\",\n",
        "    \"Body Part Plural\" : \"\",\n",
        "    \"Verb\" : \"\",\n",
        "    \"Number\" : \"\",\n",
        "    \"Adjective 2\" : \"\",\n",
        "    \"Plural Noun\" : \"\",\n",
        "    \"Food\" : \"\",\n",
        "    \"Plural Noun 2\" : \"\" \n",
        "    }\n",
        "\n",
        "for key in responses:        #for every key in the dictionary \n",
        "  responses[key] += input(f\"Type a {key} \")    #update the value to be the user's input. This also prompts the user to enter the value for each key\n",
        "\n",
        "print()\n",
        "print(\"HERE'S YOUR MADLIB.....\")\n",
        "print()\n",
        "  \n",
        "print(f\"I cant believe its already {responses['Holiday']}! I cant wait to put on my {responses['Noun']} and visit every {responses['Place']}.\\n This year, I am going to dress up as {responses['Person']} with {responses['Adjective']} {responses['Body Part Plural']}. Before I {responses['Verb']}, I make sure to grab my \\n {responses['Number']} {responses['Adjective 2']} {responses['Plural Noun']} to hold all of my {responses['Food']}. Finally all of my {responses['Plural Noun 2']}\\n are ready to go! I love {responses['Holiday']}!\")\n",
        "\n",
        "\n",
        "\n"
      ],
      "execution_count": null,
      "outputs": [
        {
          "output_type": "stream",
          "text": [
            "Welcome to the MadLib program! Please enter some information below:\n",
            "Type a Holiday Thanksgiving\n",
            "Type a Noun keyboard\n",
            "Type a Place grocery store\n",
            "Type a Person Mufasa\n",
            "Type a Adjective stinky\n",
            "Type a Body Part Plural toes\n",
            "Type a Verb jogging\n",
            "Type a Number 13\n",
            "Type a Adjective 2 frosty\n",
            "Type a Plural Noun bats\n",
            "Type a Food popcorn\n",
            "Type a Plural Noun 2 lipstick\n",
            "\n",
            "HERE'S YOUR MADLIB.....\n",
            "\n",
            "I cant believe its already Thanksgiving! I cant wait to put on my keyboard and visit every grocery store.\n",
            " This year, I am going to dress up as Mufasa with stinky toes. Before I jogging, I make sure to grab my \n",
            " 13 frosty bats to hold all of my popcorn. Finally all of my lipstick\n",
            " are ready to go! I love Thanksgiving!\n"
          ],
          "name": "stdout"
        }
      ]
    }
  ]
}